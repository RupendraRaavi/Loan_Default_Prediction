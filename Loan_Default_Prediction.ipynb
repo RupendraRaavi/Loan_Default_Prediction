{
 "cells": [
  {
   "cell_type": "code",
   "execution_count": 46,
   "id": "9cc6ab79",
   "metadata": {},
   "outputs": [],
   "source": [
    "import pandas as pd\n",
    "import numpy as np\n",
    "import seaborn as sns\n",
    "import matplotlib.pyplot as plt\n"
   ]
  },
  {
   "cell_type": "code",
   "execution_count": 47,
   "id": "ef3b34bc",
   "metadata": {},
   "outputs": [
    {
     "data": {
      "text/html": [
       "<div>\n",
       "<style scoped>\n",
       "    .dataframe tbody tr th:only-of-type {\n",
       "        vertical-align: middle;\n",
       "    }\n",
       "\n",
       "    .dataframe tbody tr th {\n",
       "        vertical-align: top;\n",
       "    }\n",
       "\n",
       "    .dataframe thead th {\n",
       "        text-align: right;\n",
       "    }\n",
       "</style>\n",
       "<table border=\"1\" class=\"dataframe\">\n",
       "  <thead>\n",
       "    <tr style=\"text-align: right;\">\n",
       "      <th></th>\n",
       "      <th>Id</th>\n",
       "      <th>Home Ownership</th>\n",
       "      <th>Annual Income</th>\n",
       "      <th>Years in current job</th>\n",
       "      <th>Tax Liens</th>\n",
       "      <th>Number of Open Accounts</th>\n",
       "      <th>Years of Credit History</th>\n",
       "      <th>Maximum Open Credit</th>\n",
       "      <th>Number of Credit Problems</th>\n",
       "      <th>Months since last delinquent</th>\n",
       "      <th>Bankruptcies</th>\n",
       "      <th>Purpose</th>\n",
       "      <th>Term</th>\n",
       "      <th>Current Loan Amount</th>\n",
       "      <th>Current Credit Balance</th>\n",
       "      <th>Monthly Debt</th>\n",
       "      <th>Credit Score</th>\n",
       "      <th>Credit Default</th>\n",
       "    </tr>\n",
       "  </thead>\n",
       "  <tbody>\n",
       "    <tr>\n",
       "      <th>0</th>\n",
       "      <td>0</td>\n",
       "      <td>Own Home</td>\n",
       "      <td>482087.0</td>\n",
       "      <td>NaN</td>\n",
       "      <td>0.0</td>\n",
       "      <td>11.0</td>\n",
       "      <td>26.3</td>\n",
       "      <td>685960.0</td>\n",
       "      <td>1.0</td>\n",
       "      <td>NaN</td>\n",
       "      <td>1.0</td>\n",
       "      <td>debt consolidation</td>\n",
       "      <td>Short Term</td>\n",
       "      <td>99999999.0</td>\n",
       "      <td>47386.0</td>\n",
       "      <td>7914.0</td>\n",
       "      <td>749.0</td>\n",
       "      <td>0</td>\n",
       "    </tr>\n",
       "    <tr>\n",
       "      <th>1</th>\n",
       "      <td>1</td>\n",
       "      <td>Own Home</td>\n",
       "      <td>1025487.0</td>\n",
       "      <td>10+ years</td>\n",
       "      <td>0.0</td>\n",
       "      <td>15.0</td>\n",
       "      <td>15.3</td>\n",
       "      <td>1181730.0</td>\n",
       "      <td>0.0</td>\n",
       "      <td>NaN</td>\n",
       "      <td>0.0</td>\n",
       "      <td>debt consolidation</td>\n",
       "      <td>Long Term</td>\n",
       "      <td>264968.0</td>\n",
       "      <td>394972.0</td>\n",
       "      <td>18373.0</td>\n",
       "      <td>737.0</td>\n",
       "      <td>1</td>\n",
       "    </tr>\n",
       "    <tr>\n",
       "      <th>2</th>\n",
       "      <td>2</td>\n",
       "      <td>Home Mortgage</td>\n",
       "      <td>751412.0</td>\n",
       "      <td>8 years</td>\n",
       "      <td>0.0</td>\n",
       "      <td>11.0</td>\n",
       "      <td>35.0</td>\n",
       "      <td>1182434.0</td>\n",
       "      <td>0.0</td>\n",
       "      <td>NaN</td>\n",
       "      <td>0.0</td>\n",
       "      <td>debt consolidation</td>\n",
       "      <td>Short Term</td>\n",
       "      <td>99999999.0</td>\n",
       "      <td>308389.0</td>\n",
       "      <td>13651.0</td>\n",
       "      <td>742.0</td>\n",
       "      <td>0</td>\n",
       "    </tr>\n",
       "    <tr>\n",
       "      <th>3</th>\n",
       "      <td>3</td>\n",
       "      <td>Own Home</td>\n",
       "      <td>805068.0</td>\n",
       "      <td>6 years</td>\n",
       "      <td>0.0</td>\n",
       "      <td>8.0</td>\n",
       "      <td>22.5</td>\n",
       "      <td>147400.0</td>\n",
       "      <td>1.0</td>\n",
       "      <td>NaN</td>\n",
       "      <td>1.0</td>\n",
       "      <td>debt consolidation</td>\n",
       "      <td>Short Term</td>\n",
       "      <td>121396.0</td>\n",
       "      <td>95855.0</td>\n",
       "      <td>11338.0</td>\n",
       "      <td>694.0</td>\n",
       "      <td>0</td>\n",
       "    </tr>\n",
       "    <tr>\n",
       "      <th>4</th>\n",
       "      <td>4</td>\n",
       "      <td>Rent</td>\n",
       "      <td>776264.0</td>\n",
       "      <td>8 years</td>\n",
       "      <td>0.0</td>\n",
       "      <td>13.0</td>\n",
       "      <td>13.6</td>\n",
       "      <td>385836.0</td>\n",
       "      <td>1.0</td>\n",
       "      <td>NaN</td>\n",
       "      <td>0.0</td>\n",
       "      <td>debt consolidation</td>\n",
       "      <td>Short Term</td>\n",
       "      <td>125840.0</td>\n",
       "      <td>93309.0</td>\n",
       "      <td>7180.0</td>\n",
       "      <td>719.0</td>\n",
       "      <td>0</td>\n",
       "    </tr>\n",
       "  </tbody>\n",
       "</table>\n",
       "</div>"
      ],
      "text/plain": [
       "   Id Home Ownership  Annual Income Years in current job  Tax Liens  \\\n",
       "0   0       Own Home       482087.0                  NaN        0.0   \n",
       "1   1       Own Home      1025487.0            10+ years        0.0   \n",
       "2   2  Home Mortgage       751412.0              8 years        0.0   \n",
       "3   3       Own Home       805068.0              6 years        0.0   \n",
       "4   4           Rent       776264.0              8 years        0.0   \n",
       "\n",
       "   Number of Open Accounts  Years of Credit History  Maximum Open Credit  \\\n",
       "0                     11.0                     26.3             685960.0   \n",
       "1                     15.0                     15.3            1181730.0   \n",
       "2                     11.0                     35.0            1182434.0   \n",
       "3                      8.0                     22.5             147400.0   \n",
       "4                     13.0                     13.6             385836.0   \n",
       "\n",
       "   Number of Credit Problems  Months since last delinquent  Bankruptcies  \\\n",
       "0                        1.0                           NaN           1.0   \n",
       "1                        0.0                           NaN           0.0   \n",
       "2                        0.0                           NaN           0.0   \n",
       "3                        1.0                           NaN           1.0   \n",
       "4                        1.0                           NaN           0.0   \n",
       "\n",
       "              Purpose        Term  Current Loan Amount  \\\n",
       "0  debt consolidation  Short Term           99999999.0   \n",
       "1  debt consolidation   Long Term             264968.0   \n",
       "2  debt consolidation  Short Term           99999999.0   \n",
       "3  debt consolidation  Short Term             121396.0   \n",
       "4  debt consolidation  Short Term             125840.0   \n",
       "\n",
       "   Current Credit Balance  Monthly Debt  Credit Score  Credit Default  \n",
       "0                 47386.0        7914.0         749.0               0  \n",
       "1                394972.0       18373.0         737.0               1  \n",
       "2                308389.0       13651.0         742.0               0  \n",
       "3                 95855.0       11338.0         694.0               0  \n",
       "4                 93309.0        7180.0         719.0               0  "
      ]
     },
     "execution_count": 47,
     "metadata": {},
     "output_type": "execute_result"
    }
   ],
   "source": [
    "train = pd.read_csv('train.csv')\n",
    "test = pd.read_csv('test.csv')\n",
    "train.head()"
   ]
  },
  {
   "cell_type": "markdown",
   "id": "1b2dac9d",
   "metadata": {},
   "source": [
    "# Data Cleaning"
   ]
  },
  {
   "cell_type": "code",
   "execution_count": 48,
   "id": "96688fd7",
   "metadata": {},
   "outputs": [],
   "source": [
    "train.columns = ['_'.join(col.split(' ')).lower() for col in train.columns]\n",
    "test.columns = ['_'.join(col.split(' ')).lower() for col in test.columns]"
   ]
  },
  {
   "cell_type": "code",
   "execution_count": 49,
   "id": "3755f8ce",
   "metadata": {},
   "outputs": [
    {
     "name": "stdout",
     "output_type": "stream",
     "text": [
      "Index(['id', 'home_ownership', 'annual_income', 'years_in_current_job',\n",
      "       'tax_liens', 'number_of_open_accounts', 'years_of_credit_history',\n",
      "       'maximum_open_credit', 'number_of_credit_problems',\n",
      "       'months_since_last_delinquent', 'bankruptcies', 'purpose', 'term',\n",
      "       'current_loan_amount', 'current_credit_balance', 'monthly_debt',\n",
      "       'credit_score', 'credit_default'],\n",
      "      dtype='object')\n",
      "Index(['id', 'home_ownership', 'annual_income', 'years_in_current_job',\n",
      "       'tax_liens', 'number_of_open_accounts', 'years_of_credit_history',\n",
      "       'maximum_open_credit', 'number_of_credit_problems',\n",
      "       'months_since_last_delinquent', 'bankruptcies', 'purpose', 'term',\n",
      "       'current_loan_amount', 'current_credit_balance', 'monthly_debt',\n",
      "       'credit_score'],\n",
      "      dtype='object')\n"
     ]
    }
   ],
   "source": [
    "print(train.columns)\n",
    "print(test.columns)"
   ]
  },
  {
   "cell_type": "markdown",
   "id": "31f12104",
   "metadata": {},
   "source": [
    "### Getting the categorical values"
   ]
  },
  {
   "cell_type": "code",
   "execution_count": 50,
   "id": "e1426cae",
   "metadata": {},
   "outputs": [
    {
     "name": "stdout",
     "output_type": "stream",
     "text": [
      "These are the columns with categorical values : \n",
      "1) home_ownership\n",
      "2) years_in_current_job\n",
      "3) purpose\n",
      "4) term\n"
     ]
    }
   ],
   "source": [
    "print(\"These are the columns with categorical values : \")\n",
    "l = 1\n",
    "for i, n in enumerate(train.dtypes):\n",
    "    if n == 'object':\n",
    "        print(f\"{l})\",train.columns[i])\n",
    "        l+=1\n",
    "    "
   ]
  },
  {
   "cell_type": "markdown",
   "id": "abaa09fd",
   "metadata": {},
   "source": [
    "## Converting the categorical values - Current job"
   ]
  },
  {
   "cell_type": "code",
   "execution_count": 60,
   "id": "8ca00b89",
   "metadata": {},
   "outputs": [
    {
     "name": "stdout",
     "output_type": "stream",
     "text": [
      "6.0\n",
      "10.0\n",
      "8.0\n",
      "7.0\n",
      "5.0\n",
      "1.0\n",
      "0.0\n",
      "4.0\n",
      "3.0\n",
      "2.0\n",
      "9.0\n"
     ]
    }
   ],
   "source": [
    "current_job = train.years_in_current_job.unique()\n",
    "\n",
    "for n in current_job:\n",
    "    print(n)"
   ]
  },
  {
   "cell_type": "markdown",
   "id": "6a8b339b",
   "metadata": {},
   "source": [
    "### Mapping the year values "
   ]
  },
  {
   "cell_type": "code",
   "execution_count": 52,
   "id": "79658a51",
   "metadata": {},
   "outputs": [],
   "source": [
    "currentjob_map = {'10+ years': 10,'9 years': 9,'8 years': 8,'7 years':7,'6 years':6,\n",
    "                            '5 years': 5, '4 years': 4, '3 years':3, '2 years': 2,'1 year': 1, '< 1 year':0 }"
   ]
  },
  {
   "cell_type": "code",
   "execution_count": 53,
   "id": "a79e1015",
   "metadata": {},
   "outputs": [],
   "source": [
    "train.years_in_current_job = train.years_in_current_job.map(currentjob_map)\n",
    "test.years_in_current_job = test.years_in_current_job.map(currentjob_map)"
   ]
  },
  {
   "cell_type": "code",
   "execution_count": 57,
   "id": "efff26c1",
   "metadata": {},
   "outputs": [
    {
     "data": {
      "text/plain": [
       "array([nan, 10.,  8.,  6.,  7.,  5.,  1.,  0.,  4.,  3.,  2.,  9.])"
      ]
     },
     "execution_count": 57,
     "metadata": {},
     "output_type": "execute_result"
    }
   ],
   "source": [
    "train.years_in_current_job.unique()"
   ]
  },
  {
   "cell_type": "markdown",
   "id": "c8c0bf2a",
   "metadata": {},
   "source": [
    "### Filling nan values with median"
   ]
  },
  {
   "cell_type": "code",
   "execution_count": 59,
   "id": "28d8847f",
   "metadata": {},
   "outputs": [],
   "source": [
    "train.years_in_current_job= train.years_in_current_job.agg(lambda x : x.fillna( x.median()))\n",
    "test.years_in_current_job = test.years_in_current_job.agg(lambda x : x.fillna( x.median()))"
   ]
  },
  {
   "cell_type": "markdown",
   "id": "abccc1f1",
   "metadata": {},
   "source": [
    "# Getting the null values"
   ]
  },
  {
   "cell_type": "code",
   "execution_count": 68,
   "id": "c8644496",
   "metadata": {},
   "outputs": [
    {
     "name": "stdout",
     "output_type": "stream",
     "text": [
      "[Series([], dtype: int64)]\n",
      "%%%%%%%%%%%%%%%%%%%%%%%%%%%%%%%%%%%%%%%%%%%%%%%%%%%%%%%%%%%%%%%%%%%%%%%%%%%%%%%%\n",
      "[Series([], dtype: int64)]\n"
     ]
    }
   ],
   "source": [
    "my_values = train.isnull().sum()\n",
    "\n",
    "print([my_values[my_values > 0]])\n",
    "\n",
    "print('%' * 80)\n",
    "\n",
    "my_values1 = test.isnull().sum()\n",
    "\n",
    "print([my_values1[my_values1 > 0]])"
   ]
  },
  {
   "cell_type": "markdown",
   "id": "b5fa3789",
   "metadata": {},
   "source": [
    "# Filling the values of zero with median"
   ]
  },
  {
   "cell_type": "code",
   "execution_count": 67,
   "id": "9ca00280",
   "metadata": {},
   "outputs": [],
   "source": [
    "train.bankruptcies =  train.bankruptcies.agg(lambda x : x.fillna(x.median()))\n",
    "train.years_in_current_job =  train.years_in_current_job.agg(lambda x : x.fillna(x.median()))\n",
    "train.months_since_last_delinquent  =  train.months_since_last_delinquent.agg(lambda x : x.fillna(x.median()))\n",
    "train.credit_score =  train.credit_score.agg(lambda x : x.fillna(x.median()))\n",
    "train['annual_income'] =  train['annual_income'].agg(lambda x : x.fillna(x.mean()))\n",
    "\n",
    "\n",
    "\n",
    "test.bankruptcies =  test.bankruptcies.agg(lambda x : x.fillna(x.median()))\n",
    "test.years_in_current_job =  test.years_in_current_job.agg(lambda x : x.fillna(x.median()))\n",
    "test.months_since_last_delinquent  =  test.months_since_last_delinquent.agg(lambda x : x.fillna(x.median()))\n",
    "test.credit_score =  test.credit_score.agg(lambda x : x.fillna(x.median()))\n",
    "test['annual_income'] =  test['annual_income'].agg(lambda x : x.fillna(x.mean()))"
   ]
  },
  {
   "cell_type": "code",
   "execution_count": 69,
   "id": "1e38db56",
   "metadata": {},
   "outputs": [
    {
     "name": "stdout",
     "output_type": "stream",
     "text": [
      "[Series([], dtype: int64)]\n",
      "%%%%%%%%%%%%%%%%%%%%%%%%%%%%%%%%%%%%%%%%%%%%%%%%%%%%%%%%%%%%%%%%%%%%%%%%%%%%%%%%\n",
      "[Series([], dtype: int64)]\n"
     ]
    }
   ],
   "source": [
    "my_values = train.isnull().sum()\n",
    "\n",
    "print([my_values[my_values > 0]])\n",
    "\n",
    "print('%' * 80)\n",
    "\n",
    "my_values1 = test.isnull().sum()\n",
    "\n",
    "print([my_values1[my_values1 > 0]])"
   ]
  },
  {
   "cell_type": "markdown",
   "id": "c489869c",
   "metadata": {},
   "source": [
    "# Feature engineering"
   ]
  },
  {
   "cell_type": "code",
   "execution_count": 115,
   "id": "9a3ecd45",
   "metadata": {},
   "outputs": [],
   "source": [
    "train2 = train.drop('id', axis=1)\n",
    "test2 = test.copy()"
   ]
  },
  {
   "cell_type": "code",
   "execution_count": 116,
   "id": "9bdc3da8",
   "metadata": {},
   "outputs": [
    {
     "data": {
      "text/html": [
       "<div>\n",
       "<style scoped>\n",
       "    .dataframe tbody tr th:only-of-type {\n",
       "        vertical-align: middle;\n",
       "    }\n",
       "\n",
       "    .dataframe tbody tr th {\n",
       "        vertical-align: top;\n",
       "    }\n",
       "\n",
       "    .dataframe thead th {\n",
       "        text-align: right;\n",
       "    }\n",
       "</style>\n",
       "<table border=\"1\" class=\"dataframe\">\n",
       "  <thead>\n",
       "    <tr style=\"text-align: right;\">\n",
       "      <th></th>\n",
       "      <th>id</th>\n",
       "      <th>home_ownership</th>\n",
       "      <th>annual_income</th>\n",
       "      <th>years_in_current_job</th>\n",
       "      <th>tax_liens</th>\n",
       "      <th>number_of_open_accounts</th>\n",
       "      <th>years_of_credit_history</th>\n",
       "      <th>maximum_open_credit</th>\n",
       "      <th>number_of_credit_problems</th>\n",
       "      <th>months_since_last_delinquent</th>\n",
       "      <th>bankruptcies</th>\n",
       "      <th>purpose</th>\n",
       "      <th>term</th>\n",
       "      <th>current_loan_amount</th>\n",
       "      <th>current_credit_balance</th>\n",
       "      <th>monthly_debt</th>\n",
       "      <th>credit_score</th>\n",
       "      <th>credit_default</th>\n",
       "    </tr>\n",
       "  </thead>\n",
       "  <tbody>\n",
       "    <tr>\n",
       "      <th>0</th>\n",
       "      <td>0</td>\n",
       "      <td>Own Home</td>\n",
       "      <td>4.820870e+05</td>\n",
       "      <td>6.0</td>\n",
       "      <td>0.0</td>\n",
       "      <td>11.0</td>\n",
       "      <td>26.3</td>\n",
       "      <td>685960.0</td>\n",
       "      <td>1.0</td>\n",
       "      <td>32.0</td>\n",
       "      <td>1.0</td>\n",
       "      <td>debt consolidation</td>\n",
       "      <td>Short Term</td>\n",
       "      <td>99999999.0</td>\n",
       "      <td>47386.0</td>\n",
       "      <td>7914.0</td>\n",
       "      <td>749.0</td>\n",
       "      <td>0</td>\n",
       "    </tr>\n",
       "    <tr>\n",
       "      <th>1</th>\n",
       "      <td>1</td>\n",
       "      <td>Own Home</td>\n",
       "      <td>1.025487e+06</td>\n",
       "      <td>10.0</td>\n",
       "      <td>0.0</td>\n",
       "      <td>15.0</td>\n",
       "      <td>15.3</td>\n",
       "      <td>1181730.0</td>\n",
       "      <td>0.0</td>\n",
       "      <td>32.0</td>\n",
       "      <td>0.0</td>\n",
       "      <td>debt consolidation</td>\n",
       "      <td>Long Term</td>\n",
       "      <td>264968.0</td>\n",
       "      <td>394972.0</td>\n",
       "      <td>18373.0</td>\n",
       "      <td>737.0</td>\n",
       "      <td>1</td>\n",
       "    </tr>\n",
       "    <tr>\n",
       "      <th>2</th>\n",
       "      <td>2</td>\n",
       "      <td>Home Mortgage</td>\n",
       "      <td>7.514120e+05</td>\n",
       "      <td>8.0</td>\n",
       "      <td>0.0</td>\n",
       "      <td>11.0</td>\n",
       "      <td>35.0</td>\n",
       "      <td>1182434.0</td>\n",
       "      <td>0.0</td>\n",
       "      <td>32.0</td>\n",
       "      <td>0.0</td>\n",
       "      <td>debt consolidation</td>\n",
       "      <td>Short Term</td>\n",
       "      <td>99999999.0</td>\n",
       "      <td>308389.0</td>\n",
       "      <td>13651.0</td>\n",
       "      <td>742.0</td>\n",
       "      <td>0</td>\n",
       "    </tr>\n",
       "    <tr>\n",
       "      <th>3</th>\n",
       "      <td>3</td>\n",
       "      <td>Own Home</td>\n",
       "      <td>8.050680e+05</td>\n",
       "      <td>6.0</td>\n",
       "      <td>0.0</td>\n",
       "      <td>8.0</td>\n",
       "      <td>22.5</td>\n",
       "      <td>147400.0</td>\n",
       "      <td>1.0</td>\n",
       "      <td>32.0</td>\n",
       "      <td>1.0</td>\n",
       "      <td>debt consolidation</td>\n",
       "      <td>Short Term</td>\n",
       "      <td>121396.0</td>\n",
       "      <td>95855.0</td>\n",
       "      <td>11338.0</td>\n",
       "      <td>694.0</td>\n",
       "      <td>0</td>\n",
       "    </tr>\n",
       "    <tr>\n",
       "      <th>4</th>\n",
       "      <td>4</td>\n",
       "      <td>Rent</td>\n",
       "      <td>7.762640e+05</td>\n",
       "      <td>8.0</td>\n",
       "      <td>0.0</td>\n",
       "      <td>13.0</td>\n",
       "      <td>13.6</td>\n",
       "      <td>385836.0</td>\n",
       "      <td>1.0</td>\n",
       "      <td>32.0</td>\n",
       "      <td>0.0</td>\n",
       "      <td>debt consolidation</td>\n",
       "      <td>Short Term</td>\n",
       "      <td>125840.0</td>\n",
       "      <td>93309.0</td>\n",
       "      <td>7180.0</td>\n",
       "      <td>719.0</td>\n",
       "      <td>0</td>\n",
       "    </tr>\n",
       "    <tr>\n",
       "      <th>...</th>\n",
       "      <td>...</td>\n",
       "      <td>...</td>\n",
       "      <td>...</td>\n",
       "      <td>...</td>\n",
       "      <td>...</td>\n",
       "      <td>...</td>\n",
       "      <td>...</td>\n",
       "      <td>...</td>\n",
       "      <td>...</td>\n",
       "      <td>...</td>\n",
       "      <td>...</td>\n",
       "      <td>...</td>\n",
       "      <td>...</td>\n",
       "      <td>...</td>\n",
       "      <td>...</td>\n",
       "      <td>...</td>\n",
       "      <td>...</td>\n",
       "      <td>...</td>\n",
       "    </tr>\n",
       "    <tr>\n",
       "      <th>7495</th>\n",
       "      <td>7495</td>\n",
       "      <td>Rent</td>\n",
       "      <td>4.021920e+05</td>\n",
       "      <td>0.0</td>\n",
       "      <td>0.0</td>\n",
       "      <td>3.0</td>\n",
       "      <td>8.5</td>\n",
       "      <td>107866.0</td>\n",
       "      <td>0.0</td>\n",
       "      <td>32.0</td>\n",
       "      <td>0.0</td>\n",
       "      <td>other</td>\n",
       "      <td>Short Term</td>\n",
       "      <td>129360.0</td>\n",
       "      <td>73492.0</td>\n",
       "      <td>1900.0</td>\n",
       "      <td>697.0</td>\n",
       "      <td>0</td>\n",
       "    </tr>\n",
       "    <tr>\n",
       "      <th>7496</th>\n",
       "      <td>7496</td>\n",
       "      <td>Home Mortgage</td>\n",
       "      <td>1.533984e+06</td>\n",
       "      <td>1.0</td>\n",
       "      <td>0.0</td>\n",
       "      <td>10.0</td>\n",
       "      <td>26.5</td>\n",
       "      <td>686312.0</td>\n",
       "      <td>0.0</td>\n",
       "      <td>43.0</td>\n",
       "      <td>0.0</td>\n",
       "      <td>debt consolidation</td>\n",
       "      <td>Long Term</td>\n",
       "      <td>444048.0</td>\n",
       "      <td>456399.0</td>\n",
       "      <td>12783.0</td>\n",
       "      <td>7410.0</td>\n",
       "      <td>1</td>\n",
       "    </tr>\n",
       "    <tr>\n",
       "      <th>7497</th>\n",
       "      <td>7497</td>\n",
       "      <td>Rent</td>\n",
       "      <td>1.878910e+06</td>\n",
       "      <td>6.0</td>\n",
       "      <td>0.0</td>\n",
       "      <td>12.0</td>\n",
       "      <td>32.1</td>\n",
       "      <td>1778920.0</td>\n",
       "      <td>0.0</td>\n",
       "      <td>32.0</td>\n",
       "      <td>0.0</td>\n",
       "      <td>buy a car</td>\n",
       "      <td>Short Term</td>\n",
       "      <td>99999999.0</td>\n",
       "      <td>477812.0</td>\n",
       "      <td>12479.0</td>\n",
       "      <td>748.0</td>\n",
       "      <td>0</td>\n",
       "    </tr>\n",
       "    <tr>\n",
       "      <th>7498</th>\n",
       "      <td>7498</td>\n",
       "      <td>Home Mortgage</td>\n",
       "      <td>1.366392e+06</td>\n",
       "      <td>6.0</td>\n",
       "      <td>0.0</td>\n",
       "      <td>21.0</td>\n",
       "      <td>26.5</td>\n",
       "      <td>1141250.0</td>\n",
       "      <td>0.0</td>\n",
       "      <td>32.0</td>\n",
       "      <td>0.0</td>\n",
       "      <td>debt consolidation</td>\n",
       "      <td>Short Term</td>\n",
       "      <td>615274.0</td>\n",
       "      <td>476064.0</td>\n",
       "      <td>37118.0</td>\n",
       "      <td>731.0</td>\n",
       "      <td>0</td>\n",
       "    </tr>\n",
       "    <tr>\n",
       "      <th>7499</th>\n",
       "      <td>7499</td>\n",
       "      <td>Rent</td>\n",
       "      <td>1.366392e+06</td>\n",
       "      <td>4.0</td>\n",
       "      <td>0.0</td>\n",
       "      <td>8.0</td>\n",
       "      <td>9.4</td>\n",
       "      <td>480832.0</td>\n",
       "      <td>0.0</td>\n",
       "      <td>32.0</td>\n",
       "      <td>0.0</td>\n",
       "      <td>debt consolidation</td>\n",
       "      <td>Short Term</td>\n",
       "      <td>26928.0</td>\n",
       "      <td>288192.0</td>\n",
       "      <td>9061.0</td>\n",
       "      <td>731.0</td>\n",
       "      <td>0</td>\n",
       "    </tr>\n",
       "  </tbody>\n",
       "</table>\n",
       "<p>7500 rows × 18 columns</p>\n",
       "</div>"
      ],
      "text/plain": [
       "        id home_ownership  annual_income  years_in_current_job  tax_liens  \\\n",
       "0        0       Own Home   4.820870e+05                   6.0        0.0   \n",
       "1        1       Own Home   1.025487e+06                  10.0        0.0   \n",
       "2        2  Home Mortgage   7.514120e+05                   8.0        0.0   \n",
       "3        3       Own Home   8.050680e+05                   6.0        0.0   \n",
       "4        4           Rent   7.762640e+05                   8.0        0.0   \n",
       "...    ...            ...            ...                   ...        ...   \n",
       "7495  7495           Rent   4.021920e+05                   0.0        0.0   \n",
       "7496  7496  Home Mortgage   1.533984e+06                   1.0        0.0   \n",
       "7497  7497           Rent   1.878910e+06                   6.0        0.0   \n",
       "7498  7498  Home Mortgage   1.366392e+06                   6.0        0.0   \n",
       "7499  7499           Rent   1.366392e+06                   4.0        0.0   \n",
       "\n",
       "      number_of_open_accounts  years_of_credit_history  maximum_open_credit  \\\n",
       "0                        11.0                     26.3             685960.0   \n",
       "1                        15.0                     15.3            1181730.0   \n",
       "2                        11.0                     35.0            1182434.0   \n",
       "3                         8.0                     22.5             147400.0   \n",
       "4                        13.0                     13.6             385836.0   \n",
       "...                       ...                      ...                  ...   \n",
       "7495                      3.0                      8.5             107866.0   \n",
       "7496                     10.0                     26.5             686312.0   \n",
       "7497                     12.0                     32.1            1778920.0   \n",
       "7498                     21.0                     26.5            1141250.0   \n",
       "7499                      8.0                      9.4             480832.0   \n",
       "\n",
       "      number_of_credit_problems  months_since_last_delinquent  bankruptcies  \\\n",
       "0                           1.0                          32.0           1.0   \n",
       "1                           0.0                          32.0           0.0   \n",
       "2                           0.0                          32.0           0.0   \n",
       "3                           1.0                          32.0           1.0   \n",
       "4                           1.0                          32.0           0.0   \n",
       "...                         ...                           ...           ...   \n",
       "7495                        0.0                          32.0           0.0   \n",
       "7496                        0.0                          43.0           0.0   \n",
       "7497                        0.0                          32.0           0.0   \n",
       "7498                        0.0                          32.0           0.0   \n",
       "7499                        0.0                          32.0           0.0   \n",
       "\n",
       "                 purpose        term  current_loan_amount  \\\n",
       "0     debt consolidation  Short Term           99999999.0   \n",
       "1     debt consolidation   Long Term             264968.0   \n",
       "2     debt consolidation  Short Term           99999999.0   \n",
       "3     debt consolidation  Short Term             121396.0   \n",
       "4     debt consolidation  Short Term             125840.0   \n",
       "...                  ...         ...                  ...   \n",
       "7495               other  Short Term             129360.0   \n",
       "7496  debt consolidation   Long Term             444048.0   \n",
       "7497           buy a car  Short Term           99999999.0   \n",
       "7498  debt consolidation  Short Term             615274.0   \n",
       "7499  debt consolidation  Short Term              26928.0   \n",
       "\n",
       "      current_credit_balance  monthly_debt  credit_score  credit_default  \n",
       "0                    47386.0        7914.0         749.0               0  \n",
       "1                   394972.0       18373.0         737.0               1  \n",
       "2                   308389.0       13651.0         742.0               0  \n",
       "3                    95855.0       11338.0         694.0               0  \n",
       "4                    93309.0        7180.0         719.0               0  \n",
       "...                      ...           ...           ...             ...  \n",
       "7495                 73492.0        1900.0         697.0               0  \n",
       "7496                456399.0       12783.0        7410.0               1  \n",
       "7497                477812.0       12479.0         748.0               0  \n",
       "7498                476064.0       37118.0         731.0               0  \n",
       "7499                288192.0        9061.0         731.0               0  \n",
       "\n",
       "[7500 rows x 18 columns]"
      ]
     },
     "execution_count": 116,
     "metadata": {},
     "output_type": "execute_result"
    }
   ],
   "source": [
    "train"
   ]
  },
  {
   "cell_type": "code",
   "execution_count": 118,
   "id": "b03b78da",
   "metadata": {},
   "outputs": [
    {
     "data": {
      "text/html": [
       "<div>\n",
       "<style scoped>\n",
       "    .dataframe tbody tr th:only-of-type {\n",
       "        vertical-align: middle;\n",
       "    }\n",
       "\n",
       "    .dataframe tbody tr th {\n",
       "        vertical-align: top;\n",
       "    }\n",
       "\n",
       "    .dataframe thead th {\n",
       "        text-align: right;\n",
       "    }\n",
       "</style>\n",
       "<table border=\"1\" class=\"dataframe\">\n",
       "  <thead>\n",
       "    <tr style=\"text-align: right;\">\n",
       "      <th></th>\n",
       "      <th>home_ownership</th>\n",
       "      <th>annual_income</th>\n",
       "      <th>years_in_current_job</th>\n",
       "      <th>tax_liens</th>\n",
       "      <th>number_of_open_accounts</th>\n",
       "      <th>years_of_credit_history</th>\n",
       "      <th>maximum_open_credit</th>\n",
       "      <th>number_of_credit_problems</th>\n",
       "      <th>months_since_last_delinquent</th>\n",
       "      <th>bankruptcies</th>\n",
       "      <th>purpose</th>\n",
       "      <th>term</th>\n",
       "      <th>current_loan_amount</th>\n",
       "      <th>current_credit_balance</th>\n",
       "      <th>monthly_debt</th>\n",
       "      <th>credit_score</th>\n",
       "      <th>credit_default</th>\n",
       "    </tr>\n",
       "  </thead>\n",
       "  <tbody>\n",
       "    <tr>\n",
       "      <th>0</th>\n",
       "      <td>Own Home</td>\n",
       "      <td>4.820870e+05</td>\n",
       "      <td>6.0</td>\n",
       "      <td>0.0</td>\n",
       "      <td>11.0</td>\n",
       "      <td>26.3</td>\n",
       "      <td>685960.0</td>\n",
       "      <td>1.0</td>\n",
       "      <td>32.0</td>\n",
       "      <td>1.0</td>\n",
       "      <td>debt consolidation</td>\n",
       "      <td>Short Term</td>\n",
       "      <td>99999999.0</td>\n",
       "      <td>47386.0</td>\n",
       "      <td>7914.0</td>\n",
       "      <td>749.0</td>\n",
       "      <td>0</td>\n",
       "    </tr>\n",
       "    <tr>\n",
       "      <th>1</th>\n",
       "      <td>Own Home</td>\n",
       "      <td>1.025487e+06</td>\n",
       "      <td>10.0</td>\n",
       "      <td>0.0</td>\n",
       "      <td>15.0</td>\n",
       "      <td>15.3</td>\n",
       "      <td>1181730.0</td>\n",
       "      <td>0.0</td>\n",
       "      <td>32.0</td>\n",
       "      <td>0.0</td>\n",
       "      <td>debt consolidation</td>\n",
       "      <td>Long Term</td>\n",
       "      <td>264968.0</td>\n",
       "      <td>394972.0</td>\n",
       "      <td>18373.0</td>\n",
       "      <td>737.0</td>\n",
       "      <td>1</td>\n",
       "    </tr>\n",
       "    <tr>\n",
       "      <th>2</th>\n",
       "      <td>Home Mortgage</td>\n",
       "      <td>7.514120e+05</td>\n",
       "      <td>8.0</td>\n",
       "      <td>0.0</td>\n",
       "      <td>11.0</td>\n",
       "      <td>35.0</td>\n",
       "      <td>1182434.0</td>\n",
       "      <td>0.0</td>\n",
       "      <td>32.0</td>\n",
       "      <td>0.0</td>\n",
       "      <td>debt consolidation</td>\n",
       "      <td>Short Term</td>\n",
       "      <td>99999999.0</td>\n",
       "      <td>308389.0</td>\n",
       "      <td>13651.0</td>\n",
       "      <td>742.0</td>\n",
       "      <td>0</td>\n",
       "    </tr>\n",
       "    <tr>\n",
       "      <th>3</th>\n",
       "      <td>Own Home</td>\n",
       "      <td>8.050680e+05</td>\n",
       "      <td>6.0</td>\n",
       "      <td>0.0</td>\n",
       "      <td>8.0</td>\n",
       "      <td>22.5</td>\n",
       "      <td>147400.0</td>\n",
       "      <td>1.0</td>\n",
       "      <td>32.0</td>\n",
       "      <td>1.0</td>\n",
       "      <td>debt consolidation</td>\n",
       "      <td>Short Term</td>\n",
       "      <td>121396.0</td>\n",
       "      <td>95855.0</td>\n",
       "      <td>11338.0</td>\n",
       "      <td>694.0</td>\n",
       "      <td>0</td>\n",
       "    </tr>\n",
       "    <tr>\n",
       "      <th>4</th>\n",
       "      <td>Rent</td>\n",
       "      <td>7.762640e+05</td>\n",
       "      <td>8.0</td>\n",
       "      <td>0.0</td>\n",
       "      <td>13.0</td>\n",
       "      <td>13.6</td>\n",
       "      <td>385836.0</td>\n",
       "      <td>1.0</td>\n",
       "      <td>32.0</td>\n",
       "      <td>0.0</td>\n",
       "      <td>debt consolidation</td>\n",
       "      <td>Short Term</td>\n",
       "      <td>125840.0</td>\n",
       "      <td>93309.0</td>\n",
       "      <td>7180.0</td>\n",
       "      <td>719.0</td>\n",
       "      <td>0</td>\n",
       "    </tr>\n",
       "    <tr>\n",
       "      <th>...</th>\n",
       "      <td>...</td>\n",
       "      <td>...</td>\n",
       "      <td>...</td>\n",
       "      <td>...</td>\n",
       "      <td>...</td>\n",
       "      <td>...</td>\n",
       "      <td>...</td>\n",
       "      <td>...</td>\n",
       "      <td>...</td>\n",
       "      <td>...</td>\n",
       "      <td>...</td>\n",
       "      <td>...</td>\n",
       "      <td>...</td>\n",
       "      <td>...</td>\n",
       "      <td>...</td>\n",
       "      <td>...</td>\n",
       "      <td>...</td>\n",
       "    </tr>\n",
       "    <tr>\n",
       "      <th>7495</th>\n",
       "      <td>Rent</td>\n",
       "      <td>4.021920e+05</td>\n",
       "      <td>0.0</td>\n",
       "      <td>0.0</td>\n",
       "      <td>3.0</td>\n",
       "      <td>8.5</td>\n",
       "      <td>107866.0</td>\n",
       "      <td>0.0</td>\n",
       "      <td>32.0</td>\n",
       "      <td>0.0</td>\n",
       "      <td>other</td>\n",
       "      <td>Short Term</td>\n",
       "      <td>129360.0</td>\n",
       "      <td>73492.0</td>\n",
       "      <td>1900.0</td>\n",
       "      <td>697.0</td>\n",
       "      <td>0</td>\n",
       "    </tr>\n",
       "    <tr>\n",
       "      <th>7496</th>\n",
       "      <td>Home Mortgage</td>\n",
       "      <td>1.533984e+06</td>\n",
       "      <td>1.0</td>\n",
       "      <td>0.0</td>\n",
       "      <td>10.0</td>\n",
       "      <td>26.5</td>\n",
       "      <td>686312.0</td>\n",
       "      <td>0.0</td>\n",
       "      <td>43.0</td>\n",
       "      <td>0.0</td>\n",
       "      <td>debt consolidation</td>\n",
       "      <td>Long Term</td>\n",
       "      <td>444048.0</td>\n",
       "      <td>456399.0</td>\n",
       "      <td>12783.0</td>\n",
       "      <td>7410.0</td>\n",
       "      <td>1</td>\n",
       "    </tr>\n",
       "    <tr>\n",
       "      <th>7497</th>\n",
       "      <td>Rent</td>\n",
       "      <td>1.878910e+06</td>\n",
       "      <td>6.0</td>\n",
       "      <td>0.0</td>\n",
       "      <td>12.0</td>\n",
       "      <td>32.1</td>\n",
       "      <td>1778920.0</td>\n",
       "      <td>0.0</td>\n",
       "      <td>32.0</td>\n",
       "      <td>0.0</td>\n",
       "      <td>buy a car</td>\n",
       "      <td>Short Term</td>\n",
       "      <td>99999999.0</td>\n",
       "      <td>477812.0</td>\n",
       "      <td>12479.0</td>\n",
       "      <td>748.0</td>\n",
       "      <td>0</td>\n",
       "    </tr>\n",
       "    <tr>\n",
       "      <th>7498</th>\n",
       "      <td>Home Mortgage</td>\n",
       "      <td>1.366392e+06</td>\n",
       "      <td>6.0</td>\n",
       "      <td>0.0</td>\n",
       "      <td>21.0</td>\n",
       "      <td>26.5</td>\n",
       "      <td>1141250.0</td>\n",
       "      <td>0.0</td>\n",
       "      <td>32.0</td>\n",
       "      <td>0.0</td>\n",
       "      <td>debt consolidation</td>\n",
       "      <td>Short Term</td>\n",
       "      <td>615274.0</td>\n",
       "      <td>476064.0</td>\n",
       "      <td>37118.0</td>\n",
       "      <td>731.0</td>\n",
       "      <td>0</td>\n",
       "    </tr>\n",
       "    <tr>\n",
       "      <th>7499</th>\n",
       "      <td>Rent</td>\n",
       "      <td>1.366392e+06</td>\n",
       "      <td>4.0</td>\n",
       "      <td>0.0</td>\n",
       "      <td>8.0</td>\n",
       "      <td>9.4</td>\n",
       "      <td>480832.0</td>\n",
       "      <td>0.0</td>\n",
       "      <td>32.0</td>\n",
       "      <td>0.0</td>\n",
       "      <td>debt consolidation</td>\n",
       "      <td>Short Term</td>\n",
       "      <td>26928.0</td>\n",
       "      <td>288192.0</td>\n",
       "      <td>9061.0</td>\n",
       "      <td>731.0</td>\n",
       "      <td>0</td>\n",
       "    </tr>\n",
       "  </tbody>\n",
       "</table>\n",
       "<p>7500 rows × 17 columns</p>\n",
       "</div>"
      ],
      "text/plain": [
       "     home_ownership  annual_income  years_in_current_job  tax_liens  \\\n",
       "0          Own Home   4.820870e+05                   6.0        0.0   \n",
       "1          Own Home   1.025487e+06                  10.0        0.0   \n",
       "2     Home Mortgage   7.514120e+05                   8.0        0.0   \n",
       "3          Own Home   8.050680e+05                   6.0        0.0   \n",
       "4              Rent   7.762640e+05                   8.0        0.0   \n",
       "...             ...            ...                   ...        ...   \n",
       "7495           Rent   4.021920e+05                   0.0        0.0   \n",
       "7496  Home Mortgage   1.533984e+06                   1.0        0.0   \n",
       "7497           Rent   1.878910e+06                   6.0        0.0   \n",
       "7498  Home Mortgage   1.366392e+06                   6.0        0.0   \n",
       "7499           Rent   1.366392e+06                   4.0        0.0   \n",
       "\n",
       "      number_of_open_accounts  years_of_credit_history  maximum_open_credit  \\\n",
       "0                        11.0                     26.3             685960.0   \n",
       "1                        15.0                     15.3            1181730.0   \n",
       "2                        11.0                     35.0            1182434.0   \n",
       "3                         8.0                     22.5             147400.0   \n",
       "4                        13.0                     13.6             385836.0   \n",
       "...                       ...                      ...                  ...   \n",
       "7495                      3.0                      8.5             107866.0   \n",
       "7496                     10.0                     26.5             686312.0   \n",
       "7497                     12.0                     32.1            1778920.0   \n",
       "7498                     21.0                     26.5            1141250.0   \n",
       "7499                      8.0                      9.4             480832.0   \n",
       "\n",
       "      number_of_credit_problems  months_since_last_delinquent  bankruptcies  \\\n",
       "0                           1.0                          32.0           1.0   \n",
       "1                           0.0                          32.0           0.0   \n",
       "2                           0.0                          32.0           0.0   \n",
       "3                           1.0                          32.0           1.0   \n",
       "4                           1.0                          32.0           0.0   \n",
       "...                         ...                           ...           ...   \n",
       "7495                        0.0                          32.0           0.0   \n",
       "7496                        0.0                          43.0           0.0   \n",
       "7497                        0.0                          32.0           0.0   \n",
       "7498                        0.0                          32.0           0.0   \n",
       "7499                        0.0                          32.0           0.0   \n",
       "\n",
       "                 purpose        term  current_loan_amount  \\\n",
       "0     debt consolidation  Short Term           99999999.0   \n",
       "1     debt consolidation   Long Term             264968.0   \n",
       "2     debt consolidation  Short Term           99999999.0   \n",
       "3     debt consolidation  Short Term             121396.0   \n",
       "4     debt consolidation  Short Term             125840.0   \n",
       "...                  ...         ...                  ...   \n",
       "7495               other  Short Term             129360.0   \n",
       "7496  debt consolidation   Long Term             444048.0   \n",
       "7497           buy a car  Short Term           99999999.0   \n",
       "7498  debt consolidation  Short Term             615274.0   \n",
       "7499  debt consolidation  Short Term              26928.0   \n",
       "\n",
       "      current_credit_balance  monthly_debt  credit_score  credit_default  \n",
       "0                    47386.0        7914.0         749.0               0  \n",
       "1                   394972.0       18373.0         737.0               1  \n",
       "2                   308389.0       13651.0         742.0               0  \n",
       "3                    95855.0       11338.0         694.0               0  \n",
       "4                    93309.0        7180.0         719.0               0  \n",
       "...                      ...           ...           ...             ...  \n",
       "7495                 73492.0        1900.0         697.0               0  \n",
       "7496                456399.0       12783.0        7410.0               1  \n",
       "7497                477812.0       12479.0         748.0               0  \n",
       "7498                476064.0       37118.0         731.0               0  \n",
       "7499                288192.0        9061.0         731.0               0  \n",
       "\n",
       "[7500 rows x 17 columns]"
      ]
     },
     "execution_count": 118,
     "metadata": {},
     "output_type": "execute_result"
    }
   ],
   "source": [
    "train2"
   ]
  },
  {
   "cell_type": "markdown",
   "id": "c5a704cb",
   "metadata": {},
   "source": [
    "### Creating the dummie values to convert the categorical to numerical"
   ]
  },
  {
   "cell_type": "code",
   "execution_count": 119,
   "id": "70b2f4df",
   "metadata": {},
   "outputs": [
    {
     "data": {
      "text/plain": [
       "(7500, 32)"
      ]
     },
     "execution_count": 119,
     "metadata": {},
     "output_type": "execute_result"
    }
   ],
   "source": [
    "train2  = pd.get_dummies(train2, drop_first = True)\n",
    "train2.shape"
   ]
  },
  {
   "cell_type": "code",
   "execution_count": 120,
   "id": "d1c08918",
   "metadata": {},
   "outputs": [
    {
     "data": {
      "text/plain": [
       "(7500, 32)"
      ]
     },
     "execution_count": 120,
     "metadata": {},
     "output_type": "execute_result"
    }
   ],
   "source": [
    "train2.iloc[:,25:]\n",
    "train2.shape"
   ]
  },
  {
   "cell_type": "code",
   "execution_count": 121,
   "id": "f8e01db8",
   "metadata": {},
   "outputs": [
    {
     "data": {
      "text/plain": [
       "(2500, 31)"
      ]
     },
     "execution_count": 121,
     "metadata": {},
     "output_type": "execute_result"
    }
   ],
   "source": [
    "test2  = pd.get_dummies(test2, drop_first = True)\n",
    "test2.shape"
   ]
  },
  {
   "cell_type": "code",
   "execution_count": 127,
   "id": "b60b9a9b",
   "metadata": {},
   "outputs": [
    {
     "name": "stdout",
     "output_type": "stream",
     "text": [
      "credit_default\n"
     ]
    }
   ],
   "source": [
    "for n in train.columns:\n",
    "    if n in test.columns:\n",
    "        pass\n",
    "    else:\n",
    "        print(n)"
   ]
  },
  {
   "cell_type": "markdown",
   "id": "b63b1354",
   "metadata": {},
   "source": [
    "# Model building"
   ]
  },
  {
   "cell_type": "code",
   "execution_count": 128,
   "id": "95ed7a92",
   "metadata": {},
   "outputs": [],
   "source": [
    "from sklearn.model_selection import train_test_split\n",
    "\n",
    "from sklearn.model_selection import cross_val_score"
   ]
  },
  {
   "cell_type": "code",
   "execution_count": 129,
   "id": "28eafc16",
   "metadata": {},
   "outputs": [],
   "source": [
    "X = train2.drop(['credit_default'], axis = 1)\n",
    "y =train2.credit_default"
   ]
  },
  {
   "cell_type": "code",
   "execution_count": 132,
   "id": "7cfcba67",
   "metadata": {},
   "outputs": [
    {
     "data": {
      "text/plain": [
       "(7500, 32)"
      ]
     },
     "execution_count": 132,
     "metadata": {},
     "output_type": "execute_result"
    }
   ],
   "source": [
    "train2.shape"
   ]
  },
  {
   "cell_type": "markdown",
   "id": "9149cb86",
   "metadata": {},
   "source": [
    "## Splitting the data for training and testing"
   ]
  },
  {
   "cell_type": "code",
   "execution_count": 133,
   "id": "162fc94d",
   "metadata": {},
   "outputs": [],
   "source": [
    "X_train, X_valid, y_train, y_valid = train_test_split(X, y,\n",
    "                                                      train_size=0.8, test_size=0.2,\n",
    "                                                      random_state=0)"
   ]
  },
  {
   "cell_type": "code",
   "execution_count": 134,
   "id": "c4cf6f08",
   "metadata": {},
   "outputs": [
    {
     "data": {
      "text/plain": [
       "(1500, 31)"
      ]
     },
     "execution_count": 134,
     "metadata": {},
     "output_type": "execute_result"
    }
   ],
   "source": [
    "X_valid.shape"
   ]
  },
  {
   "cell_type": "markdown",
   "id": "f1b9f603",
   "metadata": {},
   "source": [
    "# Using the random forest"
   ]
  },
  {
   "cell_type": "code",
   "execution_count": 135,
   "id": "a75037bd",
   "metadata": {},
   "outputs": [],
   "source": [
    "from sklearn.metrics import f1_score,confusion_matrix\n",
    "from sklearn.metrics import accuracy_score"
   ]
  },
  {
   "cell_type": "code",
   "execution_count": 136,
   "id": "0779cee3",
   "metadata": {},
   "outputs": [],
   "source": [
    "from sklearn.ensemble import RandomForestClassifier"
   ]
  },
  {
   "cell_type": "code",
   "execution_count": 137,
   "id": "7045b920",
   "metadata": {},
   "outputs": [
    {
     "name": "stdout",
     "output_type": "stream",
     "text": [
      "Accuracy is:  74  %\n"
     ]
    },
    {
     "data": {
      "text/plain": [
       "<AxesSubplot:>"
      ]
     },
     "execution_count": 137,
     "metadata": {},
     "output_type": "execute_result"
    },
    {
     "data": {
      "image/png": "[encoded data removed]",
      "text/plain": [
       "<Figure size 432x288 with 2 Axes>"
      ]
     },
     "metadata": {
      "needs_background": "light"
     },
     "output_type": "display_data"
    }
   ],
   "source": [
    "clf_rf = RandomForestClassifier(n_estimators=20 ,random_state=43)      \n",
    "clr_rf = clf_rf.fit(X_train,y_train)\n",
    "\n",
    "ac = accuracy_score(y_valid,clf_rf.predict(X_valid))\n",
    "print('Accuracy is: ',int(ac*100),\" %\")\n",
    "cm = confusion_matrix(y_valid,clf_rf.predict(X_valid))\n",
    "sns.heatmap(cm,annot=True,fmt=\"d\")"
   ]
  },
  {
   "cell_type": "markdown",
   "id": "7e05da8a",
   "metadata": {},
   "source": [
    "# Feature selection"
   ]
  },
  {
   "cell_type": "code",
   "execution_count": 138,
   "id": "5b2bb23a",
   "metadata": {},
   "outputs": [
    {
     "name": "stdout",
     "output_type": "stream",
     "text": [
      "Feature ranking:\n",
      "1. feature 12 (0.183847)\n",
      "2. feature 9 (0.123003)\n",
      "3. feature 5 (0.089536)\n",
      "4. feature 11 (0.088539)\n",
      "5. feature 4 (0.085646)\n",
      "6. feature 0 (0.083445)\n",
      "7. feature 10 (0.083338)\n",
      "8. feature 3 (0.061349)\n",
      "9. feature 7 (0.054809)\n",
      "10. feature 1 (0.046166)\n",
      "11. feature 30 (0.027876)\n",
      "12. feature 6 (0.010709)\n",
      "13. feature 18 (0.008571)\n",
      "14. feature 8 (0.007738)\n",
      "15. feature 15 (0.007523)\n",
      "16. feature 13 (0.007323)\n",
      "17. feature 24 (0.006650)\n",
      "18. feature 14 (0.005269)\n",
      "19. feature 20 (0.004913)\n",
      "20. feature 2 (0.003270)\n",
      "21. feature 22 (0.002576)\n",
      "22. feature 16 (0.001972)\n",
      "23. feature 26 (0.001394)\n",
      "24. feature 21 (0.001125)\n",
      "25. feature 17 (0.001001)\n",
      "26. feature 27 (0.000811)\n",
      "27. feature 28 (0.000580)\n",
      "28. feature 29 (0.000487)\n",
      "29. feature 23 (0.000229)\n",
      "30. feature 25 (0.000204)\n",
      "31. feature 19 (0.000102)\n"
     ]
    },
    {
     "data": {
      "image/png": "[encoded data removed]",
      "text/plain": [
       "<Figure size 1080x504 with 1 Axes>"
      ]
     },
     "metadata": {
      "needs_background": "light"
     },
     "output_type": "display_data"
    }
   ],
   "source": [
    "clf_rf_5 = RandomForestClassifier()      \n",
    "clr_rf_5 = clf_rf_5.fit(X_train,y_train)\n",
    "importances = clr_rf_5.feature_importances_\n",
    "std = np.std([tree.feature_importances_ for tree in clf_rf.estimators_],\n",
    "             axis=0)\n",
    "indices = np.argsort(importances)[::-1]\n",
    "\n",
    "# Print the feature ranking\n",
    "print(\"Feature ranking:\")\n",
    "\n",
    "for f in range(X_train.shape[1]):\n",
    "    print(\"%d. feature %d (%f)\" % (f + 1, indices[f], importances[indices[f]]))\n",
    "\n",
    "# Plot the feature importances of the forest\n",
    "\n",
    "plt.figure(1, figsize=(15, 7))\n",
    "plt.title(\"Feature importances\")\n",
    "plt.bar(range(X_train.shape[1]), importances[indices],\n",
    "       color=\"b\", yerr=std[indices], align=\"center\")\n",
    "plt.xticks(range(X_train.shape[1]), X_train.columns[indices],rotation=90)\n",
    "plt.xlim([-1, X_train.shape[1]])\n",
    "plt.show()"
   ]
  },
  {
   "cell_type": "markdown",
   "id": "5c5d6546",
   "metadata": {},
   "source": [
    "# Predicting on the test file"
   ]
  },
  {
   "cell_type": "code",
   "execution_count": 144,
   "id": "7dad8a5d",
   "metadata": {},
   "outputs": [
    {
     "name": "stderr",
     "output_type": "stream",
     "text": [
      "C:\\Users\\Aorus\\anaconda3\\envs\\Gpu_work\\lib\\site-packages\\sklearn\\base.py:488: FutureWarning: The feature names should match those that were passed during fit. Starting version 1.2, an error will be raised.\n",
      "Feature names unseen at fit time:\n",
      "- id\n",
      "Feature names seen at fit time, yet now missing:\n",
      "- purpose_renewable energy\n",
      "\n",
      "  warnings.warn(message, FutureWarning)\n"
     ]
    }
   ],
   "source": [
    "prediction = clf_rf.predict(test2)"
   ]
  },
  {
   "cell_type": "code",
   "execution_count": 145,
   "id": "6cec0a53",
   "metadata": {},
   "outputs": [
    {
     "data": {
      "text/plain": [
       "array([1, 0, 1, ..., 1, 1, 1], dtype=int64)"
      ]
     },
     "execution_count": 145,
     "metadata": {},
     "output_type": "execute_result"
    }
   ],
   "source": [
    "prediction"
   ]
  },
  {
   "cell_type": "code",
   "execution_count": null,
   "id": "fe4966f3",
   "metadata": {},
   "outputs": [],
   "source": []
  }
 ],
 "metadata": {
  "kernelspec": {
   "display_name": "Python 3 (ipykernel)",
   "language": "python",
   "name": "python3"
  },
  "language_info": {
   "codemirror_mode": {
    "name": "ipython",
    "version": 3
   },
   "file_extension": ".py",
   "mimetype": "text/x-python",
   "name": "python",
   "nbconvert_exporter": "python",
   "pygments_lexer": "ipython3",
   "version": "3.9.7"
  }
 },
 "nbformat": 4,
 "nbformat_minor": 5
}
